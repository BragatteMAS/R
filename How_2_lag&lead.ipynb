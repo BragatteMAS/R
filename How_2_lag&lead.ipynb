{
  "nbformat": 4,
  "nbformat_minor": 0,
  "metadata": {
    "colab": {
      "provenance": [],
      "authorship_tag": "ABX9TyNDDiIrBuuQ/aM6j76Wl1jq",
      "include_colab_link": true
    },
    "kernelspec": {
      "name": "ir",
      "display_name": "R"
    },
    "language_info": {
      "name": "R"
    }
  },
  "cells": [
    {
      "cell_type": "markdown",
      "metadata": {
        "id": "view-in-github",
        "colab_type": "text"
      },
      "source": [
        "<a href=\"https://colab.research.google.com/github/BragatteMAS/R/blob/master/How_2_lag%26lead.ipynb\" target=\"_parent\"><img src=\"https://colab.research.google.com/assets/colab-badge.svg\" alt=\"Open In Colab\"/></a>"
      ]
    },
    {
      "cell_type": "markdown",
      "source": [
        "## How 2\n",
        "R Script to compare values across one column along the previous (or next) line of the same column? Functions `{lag}` and `{lead}`!\n",
        "\n",
        "[Ref](https://twitter.com/curso_r/status/1683827972199919616)actor by [BragatteMAS](https://github.com/BragatteMAS)"
      ],
      "metadata": {
        "id": "A3kWQwP6oDWA"
      }
    },
    {
      "cell_type": "code",
      "source": [
        "## install pacman for simplify next install packages and load libs\n",
        "install.packages(\"pacman\")"
      ],
      "metadata": {
        "colab": {
          "base_uri": "https://localhost:8080/"
        },
        "id": "hak5lI4EpW-2",
        "outputId": "6f0072a3-8fa1-4fac-8064-82e2d97c61c9"
      },
      "execution_count": 5,
      "outputs": [
        {
          "output_type": "stream",
          "name": "stderr",
          "text": [
            "Installing package into ‘/usr/local/lib/R/site-library’\n",
            "(as ‘lib’ is unspecified)\n",
            "\n"
          ]
        }
      ]
    },
    {
      "cell_type": "code",
      "source": [
        "## installation and loading\n",
        "pacman::p_load(vroom, dplyr) # tidyverse optional"
      ],
      "metadata": {
        "id": "wi4UyvRSpe1u"
      },
      "execution_count": 4,
      "outputs": []
    },
    {
      "cell_type": "markdown",
      "source": [
        "### Previous values"
      ],
      "metadata": {
        "id": "1UV_pMqHsghL"
      }
    },
    {
      "cell_type": "code",
      "source": [
        "## create e.g.\n",
        "tab <- tibble::tibble(\n",
        "    measure = c(1,1,2,3,5,8,13)\n",
        ")"
      ],
      "metadata": {
        "id": "1TZC0PJnnoSJ"
      },
      "execution_count": 12,
      "outputs": []
    },
    {
      "cell_type": "code",
      "source": [
        "## e.g. with dplyr\n",
        "tab |>\n",
        "  dplyr::mutate(\n",
        "  lag_measure = dplyr::lag(measure),\n",
        "  flag_rise = measure > lag_measure\n",
        "  )"
      ],
      "metadata": {
        "colab": {
          "base_uri": "https://localhost:8080/",
          "height": 318
        },
        "id": "KddR9kNspRHO",
        "outputId": "8d9679e6-d900-40c1-9c33-eb9f9616be5d"
      },
      "execution_count": 13,
      "outputs": [
        {
          "output_type": "display_data",
          "data": {
            "text/html": [
              "<table class=\"dataframe\">\n",
              "<caption>A tibble: 7 × 3</caption>\n",
              "<thead>\n",
              "\t<tr><th scope=col>measure</th><th scope=col>lag_measure</th><th scope=col>flag_rise</th></tr>\n",
              "\t<tr><th scope=col>&lt;dbl&gt;</th><th scope=col>&lt;dbl&gt;</th><th scope=col>&lt;lgl&gt;</th></tr>\n",
              "</thead>\n",
              "<tbody>\n",
              "\t<tr><td> 1</td><td>NA</td><td>   NA</td></tr>\n",
              "\t<tr><td> 1</td><td> 1</td><td>FALSE</td></tr>\n",
              "\t<tr><td> 2</td><td> 1</td><td> TRUE</td></tr>\n",
              "\t<tr><td> 3</td><td> 2</td><td> TRUE</td></tr>\n",
              "\t<tr><td> 5</td><td> 3</td><td> TRUE</td></tr>\n",
              "\t<tr><td> 8</td><td> 5</td><td> TRUE</td></tr>\n",
              "\t<tr><td>13</td><td> 8</td><td> TRUE</td></tr>\n",
              "</tbody>\n",
              "</table>\n"
            ],
            "text/markdown": "\nA tibble: 7 × 3\n\n| measure &lt;dbl&gt; | lag_measure &lt;dbl&gt; | flag_rise &lt;lgl&gt; |\n|---|---|---|\n|  1 | NA |    NA |\n|  1 |  1 | FALSE |\n|  2 |  1 |  TRUE |\n|  3 |  2 |  TRUE |\n|  5 |  3 |  TRUE |\n|  8 |  5 |  TRUE |\n| 13 |  8 |  TRUE |\n\n",
            "text/latex": "A tibble: 7 × 3\n\\begin{tabular}{lll}\n measure & lag\\_measure & flag\\_rise\\\\\n <dbl> & <dbl> & <lgl>\\\\\n\\hline\n\t  1 & NA &    NA\\\\\n\t  1 &  1 & FALSE\\\\\n\t  2 &  1 &  TRUE\\\\\n\t  3 &  2 &  TRUE\\\\\n\t  5 &  3 &  TRUE\\\\\n\t  8 &  5 &  TRUE\\\\\n\t 13 &  8 &  TRUE\\\\\n\\end{tabular}\n",
            "text/plain": [
              "  measure lag_measure flag_rise\n",
              "1  1      NA             NA    \n",
              "2  1       1          FALSE    \n",
              "3  2       1           TRUE    \n",
              "4  3       2           TRUE    \n",
              "5  5       3           TRUE    \n",
              "6  8       5           TRUE    \n",
              "7 13       8           TRUE    "
            ]
          },
          "metadata": {}
        }
      ]
    },
    {
      "cell_type": "code",
      "source": [
        "## Individual e.g.\n",
        "tabs <- tibble::tibble(\n",
        "    fib = c(1,1,2,3,5,8,13),\n",
        "    primes = c(2,3,5,7,11,13,17)\n",
        ")"
      ],
      "metadata": {
        "id": "vaREEKimp3kR"
      },
      "execution_count": 16,
      "outputs": []
    },
    {
      "cell_type": "code",
      "source": [
        "## lag for individual lines\n",
        "tabs |>\n",
        "  dplyr::group_by(fib) |>\n",
        "    dplyr::mutate(\n",
        "      lag_measure = dplyr::lag(primes)\n",
        "    )"
      ],
      "metadata": {
        "colab": {
          "base_uri": "https://localhost:8080/",
          "height": 318
        },
        "id": "h0pV3dN_rOlp",
        "outputId": "b25417c0-475d-4f13-84c6-7b0284ae7cf6"
      },
      "execution_count": 18,
      "outputs": [
        {
          "output_type": "display_data",
          "data": {
            "text/html": [
              "<table class=\"dataframe\">\n",
              "<caption>A grouped_df: 7 × 3</caption>\n",
              "<thead>\n",
              "\t<tr><th scope=col>fib</th><th scope=col>primes</th><th scope=col>lag_measure</th></tr>\n",
              "\t<tr><th scope=col>&lt;dbl&gt;</th><th scope=col>&lt;dbl&gt;</th><th scope=col>&lt;dbl&gt;</th></tr>\n",
              "</thead>\n",
              "<tbody>\n",
              "\t<tr><td> 1</td><td> 2</td><td>NA</td></tr>\n",
              "\t<tr><td> 1</td><td> 3</td><td> 2</td></tr>\n",
              "\t<tr><td> 2</td><td> 5</td><td>NA</td></tr>\n",
              "\t<tr><td> 3</td><td> 7</td><td>NA</td></tr>\n",
              "\t<tr><td> 5</td><td>11</td><td>NA</td></tr>\n",
              "\t<tr><td> 8</td><td>13</td><td>NA</td></tr>\n",
              "\t<tr><td>13</td><td>17</td><td>NA</td></tr>\n",
              "</tbody>\n",
              "</table>\n"
            ],
            "text/markdown": "\nA grouped_df: 7 × 3\n\n| fib &lt;dbl&gt; | primes &lt;dbl&gt; | lag_measure &lt;dbl&gt; |\n|---|---|---|\n|  1 |  2 | NA |\n|  1 |  3 |  2 |\n|  2 |  5 | NA |\n|  3 |  7 | NA |\n|  5 | 11 | NA |\n|  8 | 13 | NA |\n| 13 | 17 | NA |\n\n",
            "text/latex": "A grouped\\_df: 7 × 3\n\\begin{tabular}{lll}\n fib & primes & lag\\_measure\\\\\n <dbl> & <dbl> & <dbl>\\\\\n\\hline\n\t  1 &  2 & NA\\\\\n\t  1 &  3 &  2\\\\\n\t  2 &  5 & NA\\\\\n\t  3 &  7 & NA\\\\\n\t  5 & 11 & NA\\\\\n\t  8 & 13 & NA\\\\\n\t 13 & 17 & NA\\\\\n\\end{tabular}\n",
            "text/plain": [
              "  fib primes lag_measure\n",
              "1  1   2     NA         \n",
              "2  1   3      2         \n",
              "3  2   5     NA         \n",
              "4  3   7     NA         \n",
              "5  5  11     NA         \n",
              "6  8  13     NA         \n",
              "7 13  17     NA         "
            ]
          },
          "metadata": {}
        }
      ]
    },
    {
      "cell_type": "markdown",
      "source": [
        "### Next values"
      ],
      "metadata": {
        "id": "FtRoeAGasjri"
      }
    },
    {
      "cell_type": "code",
      "source": [
        "## next value use\n",
        "dplyr::lead()"
      ],
      "metadata": {
        "id": "653FEAj_sTPQ"
      },
      "execution_count": null,
      "outputs": []
    }
  ]
}