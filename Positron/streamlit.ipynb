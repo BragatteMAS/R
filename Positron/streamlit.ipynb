{
 "cells": [
  {
   "cell_type": "code",
   "execution_count": null,
   "metadata": {},
   "outputs": [],
   "source": [
    "import streamlit as st\n",
    "import pandas as pd\n",
    "import plotly.express as px\n",
    "\n",
    "# Configurar o layout da página\n",
    "st.set_page_config(layout=\"wide\")\n",
    "\n",
    "# Carregar os dados do arquivo \"vendas.csv\" (certifique-se de que o arquivo está no mesmo diretório)\n",
    "df = pd.read_csv(\"vendas.csv\", sep=\";\", decimal=\",\")\n",
    "\n",
    "# Converter a coluna \"Date\" para o formato de data\n",
    "df[\"Date\"] = pd.to_datetime(df[\"Date\"])\n",
    "df = df.sort_values(\"Date\")\n",
    "\n",
    "# Criar uma nova coluna \"Month\" que contém o ano e o mês\n",
    "df[\"Month\"] = df[\"Date\"].apply(lambda x: str(x.year) + \"-\" + str(x.month))\n",
    "\n",
    "# Criar uma seleção de meses na barra lateral do dashboard\n",
    "month = st.sidebar.selectbox(\"Mês\", df[\"Month\"].unique())\n",
    "df_filtered = df[df[\"Month\"] == month]\n",
    "\n",
    "col1, col2 = st.columns(2)  # Primeira linha com duas colunas\n",
    "col3, col4, col5 = st.columns(3)  # Segunda linha com três colunas\n",
    "\n",
    "# Criar o gráfico de faturamento por dia\n",
    "fig_date = px.bar(df_filtered, x=\"Date\", y=\"Total\", color=\"City\", title=\"Faturamento por dia\")\n",
    "\n",
    "# Exibir o gráfico na primeira coluna\n",
    "col1.plotly_chart(fig_date, use_container_width=True)\n",
    "\n",
    "# Criar o gráfico de faturamento por tipo de produto\n",
    "fig_prod = px.bar(df_filtered, x=\"Date\", y=\"Product line\",\n",
    "                  color=\"City\", title=\"Faturamento por tipo de produto\",\n",
    "                  orientation=\"h\")\n",
    "\n",
    "# Exibir o gráfico na segunda coluna\n",
    "col2.plotly_chart(fig_prod, use_container_width=True)\n",
    "\n",
    "# Calcular o faturamento total por cidade\n",
    "city_total = df_filtered.groupby(\"City\")[[\"Total\"]].sum().reset_index()\n",
    "\n",
    "# Criar o gráfico de barras para exibir o faturamento por cidade\n",
    "fig_city = px.bar(city_total, x=\"City\", y=\"Total\",\n",
    "                   title=\"Faturamento por cidade\")\n",
    "\n",
    "# Exibir o gráfico na terceira coluna\n",
    "col3.plotly_chart(fig_city, use_container_width=True)\n",
    "\n",
    "# Criar o gráfico de pizza para exibir o faturamento por tipo de pagamento\n",
    "fig_kind = px.pie(df_filtered, values=\"Total\", names=\"Payment\",\n",
    "                   title=\"Faturamento por tipo de pagamento\")\n",
    "\n",
    "# Exibir o gráfico na quarta coluna\n",
    "col4.plotly_chart(fig_kind, use_container_width=True)\n",
    "\n",
    "# Calcular a avaliação média por cidade\n",
    "city_total = df_filtered.groupby(\"City\")[[\"Rating\"]].mean().reset_index()\n",
    "\n",
    "# Criar o gráfico de barras para exibir a avaliação média\n",
    "fig_rating = px.bar(df_filtered, y=\"Rating\", x=\"City\",\n",
    "title=\"Avaliação Média\")\n",
    "\n",
    "# Exibir o gráfico na quinta coluna\n",
    "col5.plotly_chart(fig_rating, use_container_width=True)"
   ]
  },
  {
   "cell_type": "markdown",
   "metadata": {},
   "source": [
    "https://github.com/lpcoutinho/dashboard_rapido/tree/main"
   ]
  }
 ],
 "metadata": {
  "kernelspec": {
   "display_name": "demo",
   "language": "python",
   "name": "python3"
  },
  "language_info": {
   "codemirror_mode": {
    "name": "ipython",
    "version": 3
   },
   "file_extension": ".py",
   "mimetype": "text/x-python",
   "name": "python",
   "nbconvert_exporter": "python",
   "pygments_lexer": "ipython3",
   "version": "3.8.16"
  }
 },
 "nbformat": 4,
 "nbformat_minor": 2
}
